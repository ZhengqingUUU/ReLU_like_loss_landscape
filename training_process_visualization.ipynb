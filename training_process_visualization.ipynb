{
 "cells": [
  {
   "cell_type": "code",
   "execution_count": 1,
   "metadata": {},
   "outputs": [
    {
     "name": "stdout",
     "output_type": "stream",
     "text": [
      "8e-06 8e-06\n"
     ]
    }
   ],
   "source": [
    "import torch\n",
    "import numpy as np\n",
    "from model import *\n",
    "from helpers import *\n",
    "from tqdm import tqdm\n",
    "import torch.optim as optim \n",
    "import torch.nn.functional as F\n",
    "import pandas as pd\n",
    "import matplotlib.pyplot as plt\n",
    "import matplotlib\n",
    "import seaborn as sns\n",
    "import math\n",
    "import os \n",
    "import re\n",
    "from itertools import repeat\n",
    "\n",
    "mu = mu_p = -3\n",
    "width = 50\n",
    "x_data,y_data,dataset_name = generate_5pt_dataset(plot = False)\n",
    "beta_1, beta_2 = cal_betas(mu,mu_p, width)\n",
    "print(beta_1, beta_2) \n",
    "weight_savedir = \"weight_recording\"\n",
    "error_savedir = \"error_recording\"\n",
    "loss_savedir = \"loss_recording\"\n",
    "savefolder = \"ex_01_nokill\"\n",
    "random_seed = be_deterministic(True, random_seed=12)\n",
    "config = f\"{mu:.3f}_{mu_p:.3f}_w{width}_rs{random_seed}\"\n",
    "dataset_savefolder = os.path.join(savefolder)\n",
    "device = 'cuda' if torch.cuda.is_available() else 'cpu' \n",
    "parse_iter_id = -1\n",
    "data_pt_aliases = 'ABCDE'\n",
    "pic_savedir = 'pics'"
   ]
  },
  {
   "cell_type": "code",
   "execution_count": 2,
   "metadata": {},
   "outputs": [],
   "source": [
    "%matplotlib inline"
   ]
  },
  {
   "cell_type": "code",
   "execution_count": 3,
   "metadata": {},
   "outputs": [],
   "source": [
    "%load_ext autoreload\n",
    "%autoreload 2"
   ]
  },
  {
   "cell_type": "code",
   "execution_count": 4,
   "metadata": {},
   "outputs": [],
   "source": [
    "## we will require that the weights an d the errors are recorded under the same frequency.\n",
    "weight_wholedir = os.path.join(savefolder, config, weight_savedir)\n",
    "input_weights_paths = glob.glob(os.path.join(weight_wholedir,\"*input.pt\"))\n",
    "output_weights_paths = glob.glob(os.path.join(weight_wholedir,\"*output.pt\"))\n",
    "# order the sequence of the weight file path\n",
    "def return_num_in_str(string, parse_num_id = parse_iter_id):\n",
    "    return int(re.findall(r'\\d+', string)[parse_num_id])\n",
    "input_weights_paths = sorted(input_weights_paths, key = return_num_in_str)\n",
    "output_weights_paths = sorted(output_weights_paths, key = return_num_in_str)\n",
    "assert len(input_weights_paths)!=0"
   ]
  },
  {
   "cell_type": "code",
   "execution_count": 5,
   "metadata": {},
   "outputs": [],
   "source": [
    "error_wholedir= os.path.join(savefolder, config, error_savedir)\n",
    "errors_paths = glob.glob(os.path.join(error_wholedir,\"*.pt\"))\n",
    "errors_paths = sorted(errors_paths, key = return_num_in_str)"
   ]
  },
  {
   "cell_type": "code",
   "execution_count": 6,
   "metadata": {},
   "outputs": [
    {
     "data": {
      "text/plain": [
       "[Interval(0.0, 0.09966850280761719, closed='left'),\n",
       " Interval(0.09966850280761719, 0.5404195785522461, closed='left'),\n",
       " Interval(0.5404195785522461, 0.7853975296020508, closed='left'),\n",
       " Interval(0.7853975296020508, 2.530867099761963, closed='left'),\n",
       " Interval(2.530867099761963, 2.8501362800598145, closed='left'),\n",
       " Interval(2.8501362800598145, 3.2412610054016113, closed='left'),\n",
       " Interval(3.2412610054016113, 3.6820130348205566, closed='left'),\n",
       " Interval(3.6820130348205566, 3.9269909858703613, closed='left'),\n",
       " Interval(3.9269909858703613, 5.672459125518799, closed='left'),\n",
       " Interval(5.672459125518799, 5.99172830581665, closed='left'),\n",
       " Interval(5.99172830581665, 6.2831854820251465, closed='both')]"
      ]
     },
     "execution_count": 6,
     "metadata": {},
     "output_type": "execute_result"
    }
   ],
   "source": [
    "sector_names = [\"DE\", \"CDE\", \"BCDE\", \"ABCDE\",\"ABCD\", \"ABC\", \"AB\",\"A\", \"dead_sector\", \"E\", \"DE_2\"]\n",
    "sector_boundaries, sectors, sector_dict = derive_sectors(x_data, sector_names)\n",
    "sectors"
   ]
  },
  {
   "cell_type": "code",
   "execution_count": 7,
   "metadata": {},
   "outputs": [],
   "source": [
    "def calculate_d_one_open_sector( sector_name, x_data, error):\n",
    "    activating_data_pts = re.findall('([A-Z])', sector_name)\n",
    "    activating_data_pt_id_ls = [data_pt_aliases.index(letter) for letter in activating_data_pts]\n",
    "    activating_data_pt_tensor = x_data[activating_data_pt_id_ls]\n",
    "    corresponding_error = error[activating_data_pt_id_ls]\n",
    "    d = torch.sum(corresponding_error * activating_data_pt_tensor, axis = 0)\n",
    "    return d"
   ]
  },
  {
   "cell_type": "code",
   "execution_count": 8,
   "metadata": {},
   "outputs": [],
   "source": [
    "def compute_angle_between_two_angles(angle1, angle2):\n",
    "    \"\"\"calculate the angle between two angles. The angle is chosen to be the smaller one between abs(angle1-angle2)\n",
    "     and 2pi - abs(angle1-angle2)\n",
    "    \"\"\"\n",
    "    angle_subtraction1 = torch.abs(angle1 - angle2).reshape(-1,1)\n",
    "    angle_subtraction2 = (2*torch.pi - torch.abs(angle1 - angle2)).reshape(-1,1)\n",
    "    angle_subtraction12 = torch.cat((angle_subtraction1, angle_subtraction2), dim = 1)\n",
    "    angle_subtraction,_ = torch.min(angle_subtraction12, dim = 1)\n",
    "    return angle_subtraction\n",
    "    \n",
    "    "
   ]
  },
  {
   "cell_type": "code",
   "execution_count": 9,
   "metadata": {},
   "outputs": [],
   "source": [
    "def from_sector_name_to_color(sector_name, sector_names):\n",
    "    \"\"\"different sector, different color, always black for 'dead_sector'\n",
    "    This function is not used\n",
    "    \"\"\"\n",
    "    if \"dead\" in sector_name:\n",
    "        return '#000000' #black\n",
    "    else:\n",
    "        sector_names_merged =[name.split('_')[0] for name in sector_names] ## one sector may be disconnected on (0,2pi), \n",
    "           # which means it mgiht be distributed at teh two ends of (0,2pi), like DE and DE_2, \n",
    "           # this operation make sure that they get the same color.\n",
    "        sector_id = sector_names_merged.index(sector_name.split('_')[0])\n",
    "        return px.colors.qualitative.Plotly[sector_id]\n",
    "        "
   ]
  },
  {
   "cell_type": "code",
   "execution_count": 10,
   "metadata": {},
   "outputs": [
    {
     "name": "stderr",
     "output_type": "stream",
     "text": [
      "100%|██████████| 300/300 [00:09<00:00, 31.49it/s]\n"
     ]
    }
   ],
   "source": [
    "all_steps_dataframe = pd.DataFrame()\n",
    "for input_weights_path, output_weights_path, errors_path in tqdm(zip(input_weights_paths, output_weights_paths, errors_paths),total = len(input_weights_paths)):\n",
    "    iter_num = re.findall(r'\\d+', input_weights_path)[-1]\n",
    "    input_weight = torch.load(input_weights_path,map_location = device)\n",
    "    output_weight = torch.load(output_weights_path, map_location = device).reshape(-1,1)\n",
    "    error = torch.load(errors_path, map_location = device)\n",
    "    ## use the error tensor to compute the d vector for each sector\n",
    "    d_ls = []\n",
    "    for sector_name in sector_names:\n",
    "        d = calculate_d_one_open_sector(sector_name,x_data, error)\n",
    "        d_ls.append(d) ## dead_sector's d is (0,0)\n",
    "    d_dict = dict(zip(sector_names,d_ls))\n",
    "\n",
    "    ## find out which open sectors actually have weights inside, and select out those d's corresponding to those sectors\n",
    "    input_weight_zero_pos = (input_weight == torch.zeros(2)).any(axis = 1)\n",
    "    output_weight_zero_pos = (output_weight == torch.zeros(1)).reshape(-1)\n",
    "    overall_zero_pos = torch.logical_and(input_weight_zero_pos, output_weight_zero_pos) ## only weights with zero input and output weight at initialization time is guaranteed to have no effect on the system.\n",
    "    ## are 1d tensors ↑\n",
    "    nonzero_input_weight = input_weight[~overall_zero_pos]\n",
    "    nonzero_output_weight = output_weight[~overall_zero_pos]\n",
    "    nonzero_input_weight_ls = [tensor for tensor in nonzero_input_weight]\n",
    "    nonzero_output_weight_ls = [tensor for tensor in nonzero_output_weight]\n",
    "    nonzero_input_weight_id = (~overall_zero_pos).nonzero().squeeze(1)\n",
    "    \n",
    "    input_weight_norm = torch.linalg.norm(nonzero_input_weight, dim = 1) \n",
    "    \n",
    "    input_weight_angle = np.arctan2(nonzero_input_weight[:,1], nonzero_input_weight[:,0])\n",
    "    input_weight_angle = to_right_range(input_weight_angle)\n",
    "    \n",
    "    input_weight_sector = [in_which_sector(sectors, angle) for angle in input_weight_angle] ## a list of one-hot flags\n",
    "\n",
    "    input_weight_sector_name = \\\n",
    "    np.asarray([(np.asarray(sector_names,dtype = object)[flag])[0] for flag in input_weight_sector],dtype='object')\n",
    "\n",
    "    involved_d = [d_dict[active_sector] for active_sector in input_weight_sector_name]\n",
    "    involved_d_tensor = torch.cat([d.unsqueeze(0) for d in involved_d ])\n",
    "    involved_d_angle = to_right_range(np.arctan2(involved_d_tensor[:,1], involved_d_tensor[:,0]))\n",
    "    involved_d_norm = torch.linalg.norm(involved_d_tensor,dim=1)\n",
    "    d_compo1,d_compo2= involved_d_tensor[:,0], involved_d_tensor[:,1] # both are 1d tensors\n",
    "    d_compo1_abs, d_compo2_abs = torch.abs(d_compo1), torch.abs(d_compo2)\n",
    "\n",
    "    d_w_theta = compute_angle_between_two_angles(input_weight_angle, involved_d_angle)\n",
    "\n",
    "    one_step_dataframe = pd.DataFrame(\n",
    "        {   \"iteration\":[iter_num]*nonzero_input_weight_id.shape[0],\n",
    "            \"weight_id\":nonzero_input_weight_id,\n",
    "            \"input_weight\": nonzero_input_weight_ls,\n",
    "            \"output_weight\": nonzero_output_weight_ls,\n",
    "            \"input_weight_angle\": input_weight_angle,\n",
    "            \"input_weight_norm\": input_weight_norm,\n",
    "            \"input_weight_sector_name\": input_weight_sector_name,\n",
    "            \"d\": involved_d,\n",
    "            \"d_angle\": involved_d_angle,\n",
    "            \"d_norm\": involved_d_norm,\n",
    "            \"d_compo1_abs\":d_compo1_abs,\n",
    "            \"d_compo2_abs\":d_compo2_abs, \n",
    "            \"d_w_theta\": d_w_theta\n",
    "        }\n",
    "    )\n",
    "    \n",
    "    all_steps_dataframe = all_steps_dataframe.append(one_step_dataframe)\n",
    "\n",
    "all_steps_dataframe[\"weight_id\"] = all_steps_dataframe[\"weight_id\"].astype(str) ## better for visualization"
   ]
  },
  {
   "cell_type": "code",
   "execution_count": 11,
   "metadata": {},
   "outputs": [],
   "source": [
    "critical_step_ls = np.array((42,152))*1000 "
   ]
  },
  {
   "attachments": {},
   "cell_type": "markdown",
   "metadata": {},
   "source": [
    "## Do some plots for the report"
   ]
  },
  {
   "attachments": {},
   "cell_type": "markdown",
   "metadata": {},
   "source": [
    "#### Angle Evolution Plot"
   ]
  },
  {
   "cell_type": "code",
   "execution_count": 12,
   "metadata": {},
   "outputs": [],
   "source": [
    "all_steps_dataframe_new = all_steps_dataframe.copy()\n",
    "all_steps_dataframe_new[\"iteration_num\"] = all_steps_dataframe_new[\"iteration\"].astype(int)"
   ]
  },
  {
   "cell_type": "code",
   "execution_count": 13,
   "metadata": {},
   "outputs": [],
   "source": [
    "angle_time_df = all_steps_dataframe_new.pivot(\"iteration_num\", \"weight_id\", \"input_weight_angle\")"
   ]
  },
  {
   "cell_type": "code",
   "execution_count": 14,
   "metadata": {},
   "outputs": [],
   "source": [
    "iter_array = angle_time_df.index.values"
   ]
  },
  {
   "cell_type": "code",
   "execution_count": 15,
   "metadata": {},
   "outputs": [],
   "source": [
    "final_angle = angle_time_df.iloc[-1]\n",
    "group1_condition = (final_angle>2) & (final_angle<3)\n",
    "group1_id_ls = np.asarray(final_angle[group1_condition].index,dtype = 'int')\n",
    "group2_condition = (final_angle>0) & (final_angle<1)\n",
    "group2_id_ls = np.asarray(final_angle[group2_condition].index,dtype = 'int')\n",
    "group3_condition = (final_angle>5.7) \n",
    "group3_id_ls = np.asarray(final_angle[group3_condition].index,dtype = 'int')\n",
    "group4_condition = (final_angle>3.6) & (final_angle<3.7)\n",
    "group4_id_ls = np.asarray(final_angle[group4_condition].index,dtype = 'int')\n",
    "dead_group_condition = (~group1_condition)&(~ group2_condition)&(~ group3_condition)&(~ group4_condition)\n",
    "dead_group_id_ls = np.asarray(final_angle[dead_group_condition].index,dtype = 'int')"
   ]
  },
  {
   "cell_type": "code",
   "execution_count": 16,
   "metadata": {},
   "outputs": [],
   "source": [
    "def get_color(id):\n",
    "    if id in group1_id_ls: return 'r'\n",
    "    if id in group2_id_ls: return 'y'\n",
    "    if id in group3_id_ls: return 'g'\n",
    "    if id in group4_id_ls: return 'b'\n",
    "    if id in dead_group_id_ls: return 'k'"
   ]
  },
  {
   "cell_type": "markdown",
   "metadata": {},
   "source": [
    "#### Generate four pictures together"
   ]
  },
  {
   "cell_type": "code",
   "execution_count": 17,
   "metadata": {},
   "outputs": [
    {
     "name": "stderr",
     "output_type": "stream",
     "text": [
      "C:\\Users\\ZHENGQ~1\\AppData\\Local\\Temp/ipykernel_12164/2517639162.py:21: UserWarning: FixedFormatter should only be used together with FixedLocator\n",
      "  axs[0].set_yticklabels(axs[2].get_yticks(),  )\n",
      "C:\\Users\\ZHENGQ~1\\AppData\\Local\\Temp/ipykernel_12164/2517639162.py:93: UserWarning: FixedFormatter should only be used together with FixedLocator\n",
      "  axs[2].set_yticklabels(axs[2].get_yticks(),  )\n"
     ]
    },
    {
     "data": {
      "image/png": "[encoded data removed]",
      "text/plain": [
       "<Figure size 1656x288 with 4 Axes>"
      ]
     },
     "metadata": {
      "needs_background": "light"
     },
     "output_type": "display_data"
    }
   ],
   "source": [
    "# Create a figure with 4 subplots in a row\n",
    "fig, axs = plt.subplots(1, 4, figsize=(23, 4))  # 1 row, 4 columns\n",
    "labelsize = 16\n",
    "textsize = 14\n",
    "ticksize = 14\n",
    "\n",
    "# The loss plot\n",
    "loss_dir = os.path.join(savefolder, config, loss_savedir, \"loss.npz\")\n",
    "data = np.load(loss_dir)\n",
    "loss_arr = data['loss_arr']\n",
    "iter_arr = data['iter_arr']\n",
    "axs[0].plot(iter_arr[1:], loss_arr[1:])\n",
    "ylim_max = 0.045\n",
    "axs[0].set_ylim([0,ylim_max])\n",
    "for xc in critical_step_ls:\n",
    "    axs[0].axvline(x=xc, color='k', linestyle=':')\n",
    "    axs[0].text(xc-30000,ylim_max/44*45,f\"epoch\\n {int(xc/1000)}k\",size=textsize)\n",
    "axs[0].set_ylim([0, ylim_max])\n",
    "axs[0].set_xlabel(\"epoch\", fontsize=labelsize)\n",
    "axs[0].xaxis.set_major_formatter(formatter1)\n",
    "axs[0].set_yticklabels(axs[2].get_yticks(),  ) \n",
    "axs[0].yaxis.set_major_formatter(formatter)\n",
    "axs[0].yaxis.get_offset_text().set_x(-0.1)\n",
    "axs[0].tick_params(axis='both', which='major', labelsize=ticksize)\n",
    "\n",
    "\n",
    "# Plot data on each subplot\n",
    "group1_already = False\n",
    "group2_already = False\n",
    "group3_already = False\n",
    "group4_already = False\n",
    "dead_group_already = False\n",
    "line_style = \"-\"\n",
    "alpha = 0.6\n",
    "linewidth = 1\n",
    "for i in range(50):\n",
    "    plot_data = angle_time_df[str(i)].values\n",
    "    color = get_color(i)\n",
    "    if color == 'r' and not group1_already:\n",
    "        axs[1].plot(iter_array,plot_data, color+line_style, linewidth = linewidth, alpha = alpha, label = \"group 1\")\n",
    "        group1_already = True\n",
    "    elif color == 'y' and not group2_already:\n",
    "        axs[1].plot(iter_array,plot_data, color+line_style, linewidth = linewidth, alpha = alpha,label = \"group 2\")\n",
    "        group2_already = True\n",
    "    elif color == 'g' and not group3_already:\n",
    "        axs[1].plot(iter_array,plot_data, color+line_style, linewidth = linewidth, alpha = alpha,label = \"group 3\")\n",
    "        group3_already = True\n",
    "    elif color == 'b' and not group4_already:\n",
    "        axs[1].plot(iter_array,plot_data, color+line_style, linewidth = linewidth, alpha = alpha,label = \"group 4\")\n",
    "        group4_already = True\n",
    "    elif color == 'k' and not dead_group_already:\n",
    "        axs[1].plot(iter_array,plot_data, color+line_style, linewidth = linewidth, alpha = alpha,label = \"dead group\")\n",
    "        dead_group_already = True\n",
    "    else:\n",
    "        axs[1].plot(iter_array,plot_data, color+line_style, linewidth = linewidth, alpha = alpha,)\n",
    "axs[1].set_xlabel('epoch', fontsize = labelsize)\n",
    "axs[1].fill_between(iter_array, 3.9269909858703613, 5.672459125518799, color = \"gray\", alpha = 0.1)\n",
    "axs[1].xaxis.set_major_formatter(formatter1)\n",
    "ylim_max = 2*np.pi\n",
    "axs[1].set_ylim([0,ylim_max])\n",
    "for xc in critical_step_ls:\n",
    "    axs[1].axvline(x=xc, color='k', linestyle=':')\n",
    "    axs[1].text(xc-40000,ylim_max/44*45,f\"epoch\\n {int(xc/1000)}k\", size=textsize)\n",
    "axs[1].tick_params(axis='both', which='major', labelsize=ticksize)\n",
    "\n",
    "# input norm plot\n",
    "input_norm_time_df= all_steps_dataframe_new.pivot(\"iteration_num\", \"weight_id\", \"input_weight_norm\")\n",
    "\n",
    "group1_already = False\n",
    "group2_already = False\n",
    "group3_already = False\n",
    "group4_already = False\n",
    "dead_group_already = False\n",
    "line_style = \"-\"\n",
    "alpha = 0.6\n",
    "linewidth = 1\n",
    "for i in range(50):\n",
    "    plot_data = input_norm_time_df[str(i)].values\n",
    "    color = get_color(i)\n",
    "    if color == 'r' and not group1_already:\n",
    "        axs[2].plot(iter_array,plot_data, color+line_style, linewidth = linewidth, alpha = alpha, label = \"group 1\")\n",
    "        group1_already = True\n",
    "    elif color == 'y' and not group2_already:\n",
    "        axs[2].plot(iter_array,plot_data, color+line_style, linewidth = linewidth, alpha = alpha,label = \"group 2\")\n",
    "        group2_already = True\n",
    "    elif color == 'k' and not dead_group_already:\n",
    "        axs[2].plot(iter_array,plot_data, color+line_style, linewidth = linewidth, alpha = alpha,label = \"dead group\")\n",
    "        dead_group_already = True\n",
    "    else:\n",
    "        axs[2].plot(iter_array,plot_data, color+line_style, linewidth = linewidth, alpha = alpha,)\n",
    "axs[2].set_xlabel('epoch',fontsize = labelsize)\n",
    "axs[2].xaxis.set_major_formatter(formatter1)\n",
    "axs[2].set_yticklabels(axs[2].get_yticks(),  ) \n",
    "axs[2].yaxis.set_major_formatter(formatter)\n",
    "axs[2].yaxis.get_offset_text().set_x(-0.1)\n",
    "ylim_max = 0.22\n",
    "axs[2].set_ylim([0,ylim_max])\n",
    "for xc in critical_step_ls:\n",
    "    axs[2].axvline(x=xc, color='k', linestyle=':')\n",
    "    axs[2].text(xc-40000,ylim_max/44*45,f\"epoch\\n {int(xc/1000)}k\", size=textsize)\n",
    "axs[2].tick_params(axis='both', which='major', labelsize=ticksize)\n",
    "\n",
    "# output weight plot\n",
    "output_weight_time_df= all_steps_dataframe_new.pivot(\"iteration_num\", \"weight_id\", \"output_weight\")\n",
    "group1_already = False\n",
    "group2_already = False\n",
    "group3_already = False\n",
    "group4_already = False\n",
    "dead_group_already = False\n",
    "line_style = \"-\"\n",
    "alpha = 0.5\n",
    "linewidth = 1\n",
    "for i in range(50):\n",
    "    plot_data = output_weight_time_df[str(i)].values\n",
    "    color = get_color(i)\n",
    "    if color == 'r' and not group1_already:\n",
    "        axs[3].plot(iter_array,plot_data, color+line_style, linewidth = linewidth, alpha = alpha, label = \"group 1\")\n",
    "        group1_already = True\n",
    "    elif color == 'y' and not group2_already:\n",
    "        axs[3].plot(iter_array,plot_data, color+line_style, linewidth = linewidth, alpha = alpha,label = \"group 2\")\n",
    "        group2_already = True\n",
    "    elif color == 'k' and not dead_group_already:\n",
    "        axs[3].plot(iter_array,plot_data, color+line_style, linewidth = linewidth, alpha = alpha,label = \"dead group\")\n",
    "        dead_group_already = True\n",
    "    else:\n",
    "        axs[3].plot(iter_array,plot_data, color+line_style, linewidth = linewidth, alpha = alpha,)\n",
    "axs[3].set_xlabel('epoch', fontsize = labelsize)\n",
    "handles, labels = plt.gca().get_legend_handles_labels()\n",
    "order = [0,2,1]\n",
    "axs[3].xaxis.set_major_formatter(formatter1)\n",
    "axs[3].yaxis.set_major_formatter(formatter)\n",
    "axs[3].legend([handles[idx] for idx in order],[labels[idx] for idx in order], fontsize=labelsize, bbox_to_anchor=(1., 1))\n",
    "axs[3].yaxis.get_offset_text().set_x(-0.1)\n",
    "# do the vertical line\n",
    "ylim_min = -0.16\n",
    "ylim_max = 0.22\n",
    "axs[3].set_ylim([ylim_min, ylim_max])\n",
    "for xc in critical_step_ls:\n",
    "    axs[3].axvline(x=xc, color='k', linestyle=':')\n",
    "    axs[3].text(xc-40000,ylim_min+(ylim_max-ylim_min)/44*45,f\"epoch\\n {int(xc/1000)}k\", size=textsize)\n",
    "axs[3].tick_params(axis='both', which='major', labelsize=ticksize)\n",
    "\n",
    "\n",
    "plt.subplots_adjust(wspace=0.15)\n",
    "plt.tight_layout()\n",
    "plt.savefig(os.path.join(savefolder,config, \"pics\", \"all_in_one_plot.png\"),dpi=300)\n"
   ]
  }
 ],
 "metadata": {
  "kernelspec": {
   "display_name": "Python 3.9.7 ('base')",
   "language": "python",
   "name": "python3"
  },
  "language_info": {
   "codemirror_mode": {
    "name": "ipython",
    "version": 3
   },
   "file_extension": ".py",
   "mimetype": "text/x-python",
   "name": "python",
   "nbconvert_exporter": "python",
   "pygments_lexer": "ipython3",
   "version": "3.9.7"
  },
  "orig_nbformat": 4,
  "vscode": {
   "interpreter": {
    "hash": "0d7310419b70243538b1a76f3b865aed351691a89600e2f550ea8a1f4cf0318b"
   }
  }
 },
 "nbformat": 4,
 "nbformat_minor": 2
}
