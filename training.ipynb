{
 "cells": [
  {
   "cell_type": "code",
   "execution_count": 1,
   "metadata": {},
   "outputs": [],
   "source": [
    "%load_ext autoreload\n",
    "%autoreload 2\n",
    "import torch\n",
    "import numpy as np\n",
    "from model import *\n",
    "from helpers import *\n",
    "from tqdm import tqdm\n",
    "import torch.optim as optim \n",
    "import torch.nn.functional as F\n",
    "import pandas as pd\n",
    "import matplotlib.pyplot as plt\n",
    "import seaborn as sns\n",
    "import math\n",
    "import os "
   ]
  },
  {
   "cell_type": "code",
   "execution_count": 4,
   "metadata": {},
   "outputs": [
    {
     "name": "stdout",
     "output_type": "stream",
     "text": [
      "8e-06 8e-06\n"
     ]
    }
   ],
   "source": [
    "num = -3.0\n",
    "mu = mu_p = num\n",
    "width = 50\n",
    "learning_rate = 1e-3\n",
    "x_data,y_data,dataset_name = generate_5pt_dataset(plot = False)\n",
    "same_output_plot_annotate_num = 5\n",
    "beta_1, beta_2 = cal_betas(mu,mu_p, width)\n",
    "print(beta_1, beta_2) \n",
    "savefolder = \"ex_01_nokill\"\n",
    "random_seed = be_deterministic(True, random_seed=12)\n",
    "config = f\"{mu:.3f}_{mu_p:.3f}_w{width}_rs{random_seed}\"\n",
    "operation_step_gap = 2000\n",
    "loss_print_step = operation_step_gap\n",
    "gif_step = operation_step_gap\n",
    "loss_update_step = operation_step_gap\n",
    "weight_record_step = gif_step\n",
    "output_plot_step = gif_step\n",
    "targets_approaching_plot_step = loss_print_step\n",
    "weight_savedir = \"weight_recording\"\n",
    "pic_savedir = 'pics'\n",
    "output_pic_savedir = os.path.join(pic_savedir, \"output_func\")\n",
    "loss_pic_gif_savedir = os.path.join(pic_savedir, \"loss_gif\")\n",
    "same_weight_plot_annotate_num = same_output_plot_annotate_num\n",
    "duration = 5\n",
    "training_iters = 6e5 "
   ]
  },
  {
   "cell_type": "code",
   "execution_count": 5,
   "metadata": {},
   "outputs": [],
   "source": [
    "%%capture\n",
    "\n",
    "net = two_layer_net(2,width,1,beta_1, beta_2, random_seed=random_seed, balancedness = False)\n",
    "# net = two_layer_net_kill_all_neurons_except(net,[12])\n",
    "device = torch.device('cuda' if torch.cuda.is_available() else 'cpu')\n",
    "train(net, x_data, y_data, learning_rate, stopping_loss = 1e-5, max_iter = training_iters,\n",
    "        config = config, weight_savedir=weight_savedir,\n",
    "        loss_pic_savedir=pic_savedir, loss_print_step= loss_print_step, weight_record_step=weight_record_step, savefolder = savefolder,\\\n",
    "        output_plot_step = output_plot_step, output_pic_savedir = output_pic_savedir, \\\n",
    "        loss_pic_gif_savedir = loss_pic_gif_savedir,\n",
    "        same_output_plot_annotate_num = same_output_plot_annotate_num, loss_update_step=loss_update_step, loss_display_lim = 0.05)\n",
    "        \n",
    "\n"
   ]
  },
  {
   "cell_type": "code",
   "execution_count": 6,
   "metadata": {},
   "outputs": [],
   "source": [
    "outputfunc_jpgdir = os.path.join(savefolder, config, output_pic_savedir)\n",
    "outputfunc_gif_dir = os.path.join(savefolder,  config, pic_savedir)\n",
    "jpg2gif(outputfunc_jpgdir, outputfunc_gif_dir, 'output_func_evolution',parse_num_to_order=True,duration=duration)\n",
    "\n",
    "loss_jpgdir = os.path.join(savefolder, config, loss_pic_gif_savedir)\n",
    "loss_gif_dir = os.path.join(savefolder,  config, pic_savedir)\n",
    "jpg2gif(loss_jpgdir, loss_gif_dir, 'loss_evolution',parse_num_to_order=True,duration=duration)"
   ]
  }
 ],
 "metadata": {
  "kernelspec": {
   "display_name": "Python 3.9.7 ('base')",
   "language": "python",
   "name": "python3"
  },
  "language_info": {
   "codemirror_mode": {
    "name": "ipython",
    "version": 3
   },
   "file_extension": ".py",
   "mimetype": "text/x-python",
   "name": "python",
   "nbconvert_exporter": "python",
   "pygments_lexer": "ipython3",
   "version": "3.9.7"
  },
  "orig_nbformat": 4,
  "vscode": {
   "interpreter": {
    "hash": "0d7310419b70243538b1a76f3b865aed351691a89600e2f550ea8a1f4cf0318b"
   }
  }
 },
 "nbformat": 4,
 "nbformat_minor": 2
}
